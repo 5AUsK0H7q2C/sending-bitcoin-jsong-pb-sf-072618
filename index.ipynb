{
 "cells": [
  {
   "cell_type": "markdown",
   "metadata": {},
   "source": [
    "# Sending Bitcoin!\n",
    "\n",
    "#### Send 0.04 TBTC to this address `muvpVznkBtk8rRSxLRVQRdUhsMjS7aKRne`\n",
    "\n",
    "#### Go here to send your transaction: https://testnet.blockexplorer.com/tx/send or https://live.blockcypher.com/btc-testnet/pushtx/"
   ]
  },
  {
   "cell_type": "code",
   "execution_count": 8,
   "metadata": {},
   "outputs": [
    {
     "ename": "TypeError",
     "evalue": "fee() got an unexpected keyword argument 'testnet'",
     "output_type": "error",
     "traceback": [
      "\u001b[0;31m\u001b[0m",
      "\u001b[0;31mTypeError\u001b[0mTraceback (most recent call last)",
      "\u001b[0;32m<ipython-input-8-3649e27a798e>\u001b[0m in \u001b[0;36m<module>\u001b[0;34m()\u001b[0m\n\u001b[1;32m     62\u001b[0m \u001b[0;34m\u001b[0m\u001b[0m\n\u001b[1;32m     63\u001b[0m \u001b[0;31m# SANITY CHECK: fee is reasonable\u001b[0m\u001b[0;34m\u001b[0m\u001b[0;34m\u001b[0m\u001b[0m\n\u001b[0;32m---> 64\u001b[0;31m \u001b[0;32mif\u001b[0m \u001b[0mtx_obj\u001b[0m\u001b[0;34m.\u001b[0m\u001b[0mfee\u001b[0m\u001b[0;34m(\u001b[0m\u001b[0;34m)\u001b[0m \u001b[0;34m>\u001b[0m \u001b[0;36m0.05\u001b[0m\u001b[0;34m*\u001b[0m\u001b[0;36m100000000\u001b[0m \u001b[0;32mor\u001b[0m \u001b[0mtx_obj\u001b[0m\u001b[0;34m.\u001b[0m\u001b[0mfee\u001b[0m\u001b[0;34m(\u001b[0m\u001b[0mtestnet\u001b[0m\u001b[0;34m=\u001b[0m\u001b[0;32mTrue\u001b[0m\u001b[0;34m)\u001b[0m \u001b[0;34m<=\u001b[0m \u001b[0;36m0\u001b[0m\u001b[0;34m:\u001b[0m\u001b[0;34m\u001b[0m\u001b[0m\n\u001b[0m\u001b[1;32m     65\u001b[0m     \u001b[0;32mraise\u001b[0m \u001b[0mRuntimeError\u001b[0m\u001b[0;34m(\u001b[0m\u001b[0;34m'Check that the change amount is reasonable. Fee is {}'\u001b[0m\u001b[0;34m.\u001b[0m\u001b[0mformat\u001b[0m\u001b[0;34m(\u001b[0m\u001b[0mtx_obj\u001b[0m\u001b[0;34m.\u001b[0m\u001b[0mfee\u001b[0m\u001b[0;34m(\u001b[0m\u001b[0;34m)\u001b[0m\u001b[0;34m)\u001b[0m\u001b[0;34m)\u001b[0m\u001b[0;34m\u001b[0m\u001b[0m\n\u001b[1;32m     66\u001b[0m \u001b[0;34m\u001b[0m\u001b[0m\n",
      "\u001b[0;31mTypeError\u001b[0m: fee() got an unexpected keyword argument 'testnet'"
     ]
    }
   ],
   "source": [
    "from ecc import PrivateKey\n",
    "from helper import decode_base58, p2pkh_script, SIGHASH_ALL\n",
    "from script import Script\n",
    "from tx import TxIn, TxOut, Tx\n",
    "\n",
    "prev_tx = bytes.fromhex('47d135cdf2712dba6d8f89249ad8b69a6d9cb577796fb303bc1b71619a2f5a4d')\n",
    "prev_index = 1 # FILL THIS IN\n",
    "target_address = 'muvpVznkBtk8rRSxLRVQRdUhsMjS7aKRne'\n",
    "target_address_h160 = decode_base58(target_address)\n",
    "target_amount = 0.04\n",
    "change_address = 'mh6N2xjn6Mjr1sP7mPG2fY8UpRHzMeRevi'\n",
    "change_address_h160 = decode_base58(change_address)\n",
    "change_amount = 0.95 # CALCULATE THIS\n",
    "secret = 290734954828461550834002\n",
    "priv = PrivateKey(secret=secret)\n",
    "\n",
    "# initialize inputs\n",
    "# create a new tx input with prev_tx, prev_index, blank script_sig and max sequence\n",
    "tx_ins = [\n",
    "    TxIn(prev_tx, prev_index, b'', 0xffffffff)\n",
    "]\n",
    "\n",
    "# initialize outputs\n",
    "# decode the hash160 from the target address\n",
    "# convert hash160 to p2pkh script\n",
    "# convert target amount to satoshis (multiply by 100 million)\n",
    "# create a new tx output for target with amount and script_pubkey\n",
    "# decode the hash160 from the change address\n",
    "# convert hash160 to p2pkh script\n",
    "# convert change amount to satoshis (multiply by 100 million)\n",
    "# create a new tx output for target with amount and script_pubkey\n",
    "tx_outs = [\n",
    "    TxOut(\n",
    "        amount=int(change_amount*100000000),\n",
    "        script_pubkey=p2pkh_script(change_address_h160),\n",
    "    ),\n",
    "    TxOut(\n",
    "        amount=int(target_amount*100000000),\n",
    "        script_pubkey=p2pkh_script(target_address_h160),\n",
    "    ),\n",
    "]\n",
    "\n",
    "# create the transaction\n",
    "tx_obj = Tx(version=1, tx_ins=tx_ins, tx_outs=tx_outs, locktime=0, testnet=True)\n",
    "\n",
    "# now sign the 0th input with the private key using SIGHASH_ALL using sign_input\n",
    "hash_type = SIGHASH_ALL\n",
    "z = tx_obj.sig_hash(0, hash_type)\n",
    "pk = PrivateKey(secret=secret)\n",
    "der = pk.sign(z).der()\n",
    "sig = der + hash_type.to_bytes(1, 'big')\n",
    "sec = pk.point.sec()\n",
    "tx_obj.tx_ins[0].script_sig = Script([sig, sec])\n",
    "\n",
    "# SANITY CHECK: change address corresponds to private key\n",
    "if priv.point.address(testnet=True) != change_address:\n",
    "    raise RuntimeError('Private Key does not correspond to Change Address, check priv_key and change_address')\n",
    "\n",
    "# SANITY CHECK: output's script_pubkey is the same one as your address\n",
    "if tx_ins[0].script_pubkey(testnet=True).elements[2] != decode_base58(change_address):\n",
    "    raise RuntimeError('Output is not something you can spend with this private key. Check that the prev_tx and prev_index are correct')\n",
    "\n",
    "# SANITY CHECK: fee is reasonable\n",
    "if tx_obj.fee() > 0.05*100000000 or tx_obj.fee(testnet=True) <= 0:\n",
    "    raise RuntimeError('Check that the change amount is reasonable. Fee is {}'.format(tx_obj.fee()))\n",
    "\n",
    "# serialize and hex()"
   ]
  },
  {
   "cell_type": "markdown",
   "metadata": {},
   "source": [
    "### Bonus:\n",
    "\n",
    "Get some testnet coins and spend both outputs (one from your change address and one from the testnet faucet) to `muvpVznkBtk8rRSxLRVQRdUhsMjS7aKRne`\n",
    "\n",
    "#### You can get some free testnet coins at: https://testnet.coinfaucet.eu/en/"
   ]
  },
  {
   "cell_type": "code",
   "execution_count": null,
   "metadata": {
    "scrolled": true
   },
   "outputs": [],
   "source": [
    "# Bonus\n",
    "\n",
    "from ecc import PrivateKey\n",
    "from helper import decode_base58, p2pkh_script, SIGHASH_ALL\n",
    "from script import Script\n",
    "from tx import TxIn, TxOut, Tx\n",
    "\n",
    "prev_tx_1 = bytes.fromhex('')\n",
    "prev_index_1 = -1\n",
    "prev_tx_2 = bytes.fromhex('')\n",
    "prev_index_2 = -1\n",
    "target_address = 'muvpVznkBtk8rRSxLRVQRdUhsMjS7aKRne'\n",
    "target_amount = -1\n",
    "secret = 1800555555518005555555\n",
    "priv = PrivateKey(secret=secret)\n",
    "\n",
    "# initialize inputs\n",
    "# create the first tx input with prev_tx_1, prev_index_1, blank script_sig and max sequence\n",
    "# create the second tx input with prev_tx_2, prev_index_2, blank script_sig and max sequence\n",
    "\n",
    "# initialize outputs\n",
    "# decode the hash160 from the target address\n",
    "# convert hash160 to p2pkh script\n",
    "# convert target amount to satoshis (multiply by 100 million)\n",
    "# create a single tx output for target with amount and script_pubkey\n",
    "\n",
    "# create the transaction\n",
    "\n",
    "# sign both inputs with the private key using SIGHASH_ALL using sign_input\n",
    "\n",
    "# SANITY CHECK: output's script_pubkey is the same one as your address\n",
    "if tx_ins[0].script_pubkey(testnet=True).elements[2] != decode_base58(priv.point.address(testnet=True)):\n",
    "    raise RuntimeError('Output is not something you can spend with this private key. Check that the prev_tx and prev_index are correct')\n",
    "\n",
    "# SANITY CHECK: fee is reasonable\n",
    "if tx_obj.fee(testnet=True) > 0.05*100000000 or tx_obj.fee(testnet=True) <= 0:\n",
    "    raise RuntimeError('Check that the change amount is reasonable. Fee is {}'.format(tx_obj.fee()))\n",
    "\n",
    "# serialize and hex()"
   ]
  }
 ],
 "metadata": {
  "kernelspec": {
   "display_name": "Python 3",
   "language": "python",
   "name": "python3"
  },
  "language_info": {
   "codemirror_mode": {
    "name": "ipython",
    "version": 3
   },
   "file_extension": ".py",
   "mimetype": "text/x-python",
   "name": "python",
   "nbconvert_exporter": "python",
   "pygments_lexer": "ipython3",
   "version": "3.6.4"
  }
 },
 "nbformat": 4,
 "nbformat_minor": 2
}
